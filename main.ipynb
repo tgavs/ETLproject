{
 "cells": [
  {
   "cell_type": "code",
   "execution_count": 1,
   "metadata": {},
   "outputs": [],
   "source": [
    "import pandas as pd\n",
    "import requests\n",
    "from sqlalchemy import create_engine\n",
    "import pymysql\n",
    "pymysql.install_as_MySQLdb()\n",
    "from config import gkey, mySQLrp"
   ]
  },
  {
   "cell_type": "markdown",
   "metadata": {},
   "source": [
    "## Gasoline prices analysis\n",
    "\n",
    "#### Analyzing gasoline's data from prices and gas stations reported on first two months of 2019"
   ]
  },
  {
   "cell_type": "markdown",
   "metadata": {},
   "source": [
    "### Function for getting State name based in latitude and longitude"
   ]
  },
  {
   "cell_type": "code",
   "execution_count": 2,
   "metadata": {},
   "outputs": [],
   "source": [
    "def revGeocoding(lat,long,apiKey):\n",
    "\n",
    "   url=f\"https://maps.googleapis.com/maps/api/geocode/json?latlng={lat},{long}&key={apiKey}\"\n",
    "   response=requests.get(url).json()\n",
    "    \n",
    "   #print(response['results'][0]['address_components'][4])\n",
    "   state=response['results'][1]['address_components'][1]['long_name']\n",
    "\n",
    "   return state"
   ]
  },
  {
   "cell_type": "markdown",
   "metadata": {},
   "source": [
    "### Getting prices data"
   ]
  },
  {
   "cell_type": "code",
   "execution_count": 3,
   "metadata": {},
   "outputs": [
    {
     "data": {
      "text/html": [
       "<div>\n",
       "<style scoped>\n",
       "    .dataframe tbody tr th:only-of-type {\n",
       "        vertical-align: middle;\n",
       "    }\n",
       "\n",
       "    .dataframe tbody tr th {\n",
       "        vertical-align: top;\n",
       "    }\n",
       "\n",
       "    .dataframe thead th {\n",
       "        text-align: right;\n",
       "    }\n",
       "</style>\n",
       "<table border=\"1\" class=\"dataframe\">\n",
       "  <thead>\n",
       "    <tr style=\"text-align: right;\">\n",
       "      <th></th>\n",
       "      <th>place_id</th>\n",
       "      <th>observation</th>\n",
       "      <th>gas_price</th>\n",
       "      <th>type</th>\n",
       "      <th>update_time</th>\n",
       "      <th>Año</th>\n",
       "      <th>Mes</th>\n",
       "      <th>Dia</th>\n",
       "      <th>Hora</th>\n",
       "    </tr>\n",
       "  </thead>\n",
       "  <tbody>\n",
       "    <tr>\n",
       "      <th>0</th>\n",
       "      <td>11703</td>\n",
       "      <td>NaN</td>\n",
       "      <td>20.23</td>\n",
       "      <td>regular</td>\n",
       "      <td>2019-02-15 00:00:00</td>\n",
       "      <td>2019.0</td>\n",
       "      <td>2.0</td>\n",
       "      <td>15.0</td>\n",
       "      <td>0.0</td>\n",
       "    </tr>\n",
       "    <tr>\n",
       "      <th>1</th>\n",
       "      <td>11703</td>\n",
       "      <td>NaN</td>\n",
       "      <td>21.49</td>\n",
       "      <td>premium</td>\n",
       "      <td>2019-02-15 00:00:00</td>\n",
       "      <td>2019.0</td>\n",
       "      <td>2.0</td>\n",
       "      <td>15.0</td>\n",
       "      <td>0.0</td>\n",
       "    </tr>\n",
       "    <tr>\n",
       "      <th>2</th>\n",
       "      <td>11702</td>\n",
       "      <td>NaN</td>\n",
       "      <td>19.90</td>\n",
       "      <td>regular</td>\n",
       "      <td>2019-02-16 01:00:00</td>\n",
       "      <td>2019.0</td>\n",
       "      <td>2.0</td>\n",
       "      <td>16.0</td>\n",
       "      <td>1.0</td>\n",
       "    </tr>\n",
       "    <tr>\n",
       "      <th>3</th>\n",
       "      <td>11702</td>\n",
       "      <td>NaN</td>\n",
       "      <td>21.88</td>\n",
       "      <td>premium</td>\n",
       "      <td>2019-02-16 01:00:00</td>\n",
       "      <td>2019.0</td>\n",
       "      <td>2.0</td>\n",
       "      <td>16.0</td>\n",
       "      <td>1.0</td>\n",
       "    </tr>\n",
       "    <tr>\n",
       "      <th>4</th>\n",
       "      <td>11702</td>\n",
       "      <td>NaN</td>\n",
       "      <td>22.25</td>\n",
       "      <td>diesel</td>\n",
       "      <td>2019-02-16 01:00:00</td>\n",
       "      <td>2019.0</td>\n",
       "      <td>2.0</td>\n",
       "      <td>16.0</td>\n",
       "      <td>1.0</td>\n",
       "    </tr>\n",
       "  </tbody>\n",
       "</table>\n",
       "</div>"
      ],
      "text/plain": [
       "   place_id observation  gas_price     type          update_time     Año  Mes  \\\n",
       "0     11703         NaN      20.23  regular  2019-02-15 00:00:00  2019.0  2.0   \n",
       "1     11703         NaN      21.49  premium  2019-02-15 00:00:00  2019.0  2.0   \n",
       "2     11702         NaN      19.90  regular  2019-02-16 01:00:00  2019.0  2.0   \n",
       "3     11702         NaN      21.88  premium  2019-02-16 01:00:00  2019.0  2.0   \n",
       "4     11702         NaN      22.25   diesel  2019-02-16 01:00:00  2019.0  2.0   \n",
       "\n",
       "    Dia  Hora  \n",
       "0  15.0   0.0  \n",
       "1  15.0   0.0  \n",
       "2  16.0   1.0  \n",
       "3  16.0   1.0  \n",
       "4  16.0   1.0  "
      ]
     },
     "execution_count": 3,
     "metadata": {},
     "output_type": "execute_result"
    }
   ],
   "source": [
    "prices_df = pd.read_csv('prices.csv')\n",
    "prices_df.head()"
   ]
  },
  {
   "cell_type": "code",
   "execution_count": 4,
   "metadata": {},
   "outputs": [
    {
     "data": {
      "text/html": [
       "<div>\n",
       "<style scoped>\n",
       "    .dataframe tbody tr th:only-of-type {\n",
       "        vertical-align: middle;\n",
       "    }\n",
       "\n",
       "    .dataframe tbody tr th {\n",
       "        vertical-align: top;\n",
       "    }\n",
       "\n",
       "    .dataframe thead th {\n",
       "        text-align: right;\n",
       "    }\n",
       "</style>\n",
       "<table border=\"1\" class=\"dataframe\">\n",
       "  <thead>\n",
       "    <tr style=\"text-align: right;\">\n",
       "      <th></th>\n",
       "      <th>id_station</th>\n",
       "      <th>observation</th>\n",
       "      <th>gas_price</th>\n",
       "      <th>type</th>\n",
       "      <th>update_time</th>\n",
       "      <th>year</th>\n",
       "      <th>month</th>\n",
       "      <th>day</th>\n",
       "      <th>time</th>\n",
       "    </tr>\n",
       "  </thead>\n",
       "  <tbody>\n",
       "    <tr>\n",
       "      <th>0</th>\n",
       "      <td>11703</td>\n",
       "      <td>NaN</td>\n",
       "      <td>20.23</td>\n",
       "      <td>regular</td>\n",
       "      <td>2019-02-15 00:00:00</td>\n",
       "      <td>2019.0</td>\n",
       "      <td>2.0</td>\n",
       "      <td>15.0</td>\n",
       "      <td>0.0</td>\n",
       "    </tr>\n",
       "    <tr>\n",
       "      <th>1</th>\n",
       "      <td>11703</td>\n",
       "      <td>NaN</td>\n",
       "      <td>21.49</td>\n",
       "      <td>premium</td>\n",
       "      <td>2019-02-15 00:00:00</td>\n",
       "      <td>2019.0</td>\n",
       "      <td>2.0</td>\n",
       "      <td>15.0</td>\n",
       "      <td>0.0</td>\n",
       "    </tr>\n",
       "    <tr>\n",
       "      <th>2</th>\n",
       "      <td>11702</td>\n",
       "      <td>NaN</td>\n",
       "      <td>19.90</td>\n",
       "      <td>regular</td>\n",
       "      <td>2019-02-16 01:00:00</td>\n",
       "      <td>2019.0</td>\n",
       "      <td>2.0</td>\n",
       "      <td>16.0</td>\n",
       "      <td>1.0</td>\n",
       "    </tr>\n",
       "    <tr>\n",
       "      <th>3</th>\n",
       "      <td>11702</td>\n",
       "      <td>NaN</td>\n",
       "      <td>21.88</td>\n",
       "      <td>premium</td>\n",
       "      <td>2019-02-16 01:00:00</td>\n",
       "      <td>2019.0</td>\n",
       "      <td>2.0</td>\n",
       "      <td>16.0</td>\n",
       "      <td>1.0</td>\n",
       "    </tr>\n",
       "    <tr>\n",
       "      <th>4</th>\n",
       "      <td>11702</td>\n",
       "      <td>NaN</td>\n",
       "      <td>22.25</td>\n",
       "      <td>diesel</td>\n",
       "      <td>2019-02-16 01:00:00</td>\n",
       "      <td>2019.0</td>\n",
       "      <td>2.0</td>\n",
       "      <td>16.0</td>\n",
       "      <td>1.0</td>\n",
       "    </tr>\n",
       "  </tbody>\n",
       "</table>\n",
       "</div>"
      ],
      "text/plain": [
       "   id_station observation  gas_price     type          update_time    year  \\\n",
       "0       11703         NaN      20.23  regular  2019-02-15 00:00:00  2019.0   \n",
       "1       11703         NaN      21.49  premium  2019-02-15 00:00:00  2019.0   \n",
       "2       11702         NaN      19.90  regular  2019-02-16 01:00:00  2019.0   \n",
       "3       11702         NaN      21.88  premium  2019-02-16 01:00:00  2019.0   \n",
       "4       11702         NaN      22.25   diesel  2019-02-16 01:00:00  2019.0   \n",
       "\n",
       "   month   day  time  \n",
       "0    2.0  15.0   0.0  \n",
       "1    2.0  15.0   0.0  \n",
       "2    2.0  16.0   1.0  \n",
       "3    2.0  16.0   1.0  \n",
       "4    2.0  16.0   1.0  "
      ]
     },
     "execution_count": 4,
     "metadata": {},
     "output_type": "execute_result"
    }
   ],
   "source": [
    "prices_df.rename(columns={'place_id':'id_station', 'Año':'year', 'Mes':'month', 'Dia': 'day', 'Hora':'time'},  inplace = True)\n",
    "prices_df.head()"
   ]
  },
  {
   "cell_type": "markdown",
   "metadata": {},
   "source": [
    "### Deleting of unnecessary columns"
   ]
  },
  {
   "cell_type": "code",
   "execution_count": 5,
   "metadata": {},
   "outputs": [
    {
     "data": {
      "text/html": [
       "<div>\n",
       "<style scoped>\n",
       "    .dataframe tbody tr th:only-of-type {\n",
       "        vertical-align: middle;\n",
       "    }\n",
       "\n",
       "    .dataframe tbody tr th {\n",
       "        vertical-align: top;\n",
       "    }\n",
       "\n",
       "    .dataframe thead th {\n",
       "        text-align: right;\n",
       "    }\n",
       "</style>\n",
       "<table border=\"1\" class=\"dataframe\">\n",
       "  <thead>\n",
       "    <tr style=\"text-align: right;\">\n",
       "      <th></th>\n",
       "      <th>id_station</th>\n",
       "      <th>gas_price</th>\n",
       "      <th>type</th>\n",
       "      <th>update_time</th>\n",
       "      <th>year</th>\n",
       "      <th>month</th>\n",
       "      <th>day</th>\n",
       "      <th>time</th>\n",
       "    </tr>\n",
       "  </thead>\n",
       "  <tbody>\n",
       "    <tr>\n",
       "      <th>0</th>\n",
       "      <td>11703</td>\n",
       "      <td>20.23</td>\n",
       "      <td>regular</td>\n",
       "      <td>2019-02-15 00:00:00</td>\n",
       "      <td>2019.0</td>\n",
       "      <td>2.0</td>\n",
       "      <td>15.0</td>\n",
       "      <td>0.0</td>\n",
       "    </tr>\n",
       "    <tr>\n",
       "      <th>1</th>\n",
       "      <td>11703</td>\n",
       "      <td>21.49</td>\n",
       "      <td>premium</td>\n",
       "      <td>2019-02-15 00:00:00</td>\n",
       "      <td>2019.0</td>\n",
       "      <td>2.0</td>\n",
       "      <td>15.0</td>\n",
       "      <td>0.0</td>\n",
       "    </tr>\n",
       "    <tr>\n",
       "      <th>2</th>\n",
       "      <td>11702</td>\n",
       "      <td>19.90</td>\n",
       "      <td>regular</td>\n",
       "      <td>2019-02-16 01:00:00</td>\n",
       "      <td>2019.0</td>\n",
       "      <td>2.0</td>\n",
       "      <td>16.0</td>\n",
       "      <td>1.0</td>\n",
       "    </tr>\n",
       "    <tr>\n",
       "      <th>3</th>\n",
       "      <td>11702</td>\n",
       "      <td>21.88</td>\n",
       "      <td>premium</td>\n",
       "      <td>2019-02-16 01:00:00</td>\n",
       "      <td>2019.0</td>\n",
       "      <td>2.0</td>\n",
       "      <td>16.0</td>\n",
       "      <td>1.0</td>\n",
       "    </tr>\n",
       "    <tr>\n",
       "      <th>4</th>\n",
       "      <td>11702</td>\n",
       "      <td>22.25</td>\n",
       "      <td>diesel</td>\n",
       "      <td>2019-02-16 01:00:00</td>\n",
       "      <td>2019.0</td>\n",
       "      <td>2.0</td>\n",
       "      <td>16.0</td>\n",
       "      <td>1.0</td>\n",
       "    </tr>\n",
       "  </tbody>\n",
       "</table>\n",
       "</div>"
      ],
      "text/plain": [
       "   id_station  gas_price     type          update_time    year  month   day  \\\n",
       "0       11703      20.23  regular  2019-02-15 00:00:00  2019.0    2.0  15.0   \n",
       "1       11703      21.49  premium  2019-02-15 00:00:00  2019.0    2.0  15.0   \n",
       "2       11702      19.90  regular  2019-02-16 01:00:00  2019.0    2.0  16.0   \n",
       "3       11702      21.88  premium  2019-02-16 01:00:00  2019.0    2.0  16.0   \n",
       "4       11702      22.25   diesel  2019-02-16 01:00:00  2019.0    2.0  16.0   \n",
       "\n",
       "   time  \n",
       "0   0.0  \n",
       "1   0.0  \n",
       "2   1.0  \n",
       "3   1.0  \n",
       "4   1.0  "
      ]
     },
     "execution_count": 5,
     "metadata": {},
     "output_type": "execute_result"
    }
   ],
   "source": [
    "del prices_df['observation']\n",
    "prices_df.head()"
   ]
  },
  {
   "cell_type": "markdown",
   "metadata": {},
   "source": [
    "### Getting gas stations data"
   ]
  },
  {
   "cell_type": "code",
   "execution_count": 6,
   "metadata": {},
   "outputs": [
    {
     "data": {
      "text/html": [
       "<div>\n",
       "<style scoped>\n",
       "    .dataframe tbody tr th:only-of-type {\n",
       "        vertical-align: middle;\n",
       "    }\n",
       "\n",
       "    .dataframe tbody tr th {\n",
       "        vertical-align: top;\n",
       "    }\n",
       "\n",
       "    .dataframe thead th {\n",
       "        text-align: right;\n",
       "    }\n",
       "</style>\n",
       "<table border=\"1\" class=\"dataframe\">\n",
       "  <thead>\n",
       "    <tr style=\"text-align: right;\">\n",
       "      <th></th>\n",
       "      <th>place_id</th>\n",
       "      <th>name</th>\n",
       "      <th>brand</th>\n",
       "      <th>cre_id</th>\n",
       "      <th>category</th>\n",
       "      <th>address_street</th>\n",
       "      <th>x</th>\n",
       "      <th>y</th>\n",
       "    </tr>\n",
       "  </thead>\n",
       "  <tbody>\n",
       "    <tr>\n",
       "      <th>0</th>\n",
       "      <td>2039</td>\n",
       "      <td>ESTACION DE SERVICIO CALAFIA, S.A. DE C.V.</td>\n",
       "      <td>PEMEX</td>\n",
       "      <td>PL/658/EXP/ES/2015</td>\n",
       "      <td>GAS_STATION</td>\n",
       "      <td>Boulevard Insurgentes No. 1910</td>\n",
       "      <td>-116.92140</td>\n",
       "      <td>32.47641</td>\n",
       "    </tr>\n",
       "    <tr>\n",
       "      <th>1</th>\n",
       "      <td>2040</td>\n",
       "      <td>DIGEPE, S.A. DE C.V. (07356)</td>\n",
       "      <td>PEMEX</td>\n",
       "      <td>PL/902/EXP/ES/2015</td>\n",
       "      <td>GAS_STATION</td>\n",
       "      <td>Carretera Ixmiquilpan - Palmillas Km 58.5 Huic...</td>\n",
       "      <td>-99.74484</td>\n",
       "      <td>20.30370</td>\n",
       "    </tr>\n",
       "    <tr>\n",
       "      <th>2</th>\n",
       "      <td>2041</td>\n",
       "      <td>Diaz Gas, S.A. de C.V.</td>\n",
       "      <td>PEMEX</td>\n",
       "      <td>PL/760/EXP/ES/2015</td>\n",
       "      <td>GAS_STATION</td>\n",
       "      <td>Avenida Adolfo López Mateos No. 1604</td>\n",
       "      <td>-106.45140</td>\n",
       "      <td>31.71947</td>\n",
       "    </tr>\n",
       "    <tr>\n",
       "      <th>3</th>\n",
       "      <td>2042</td>\n",
       "      <td>COMBU-EXPRESS, S.A. DE C.V.</td>\n",
       "      <td>PEMEX</td>\n",
       "      <td>PL/825/EXP/ES/2015</td>\n",
       "      <td>GAS_STATION</td>\n",
       "      <td>Ricardo Flores Magón No. 950</td>\n",
       "      <td>-103.30420</td>\n",
       "      <td>20.71413</td>\n",
       "    </tr>\n",
       "    <tr>\n",
       "      <th>4</th>\n",
       "      <td>2043</td>\n",
       "      <td>PETROMAX, S.A. DE C.V.</td>\n",
       "      <td>PEMEX</td>\n",
       "      <td>PL/585/EXP/ES/2015</td>\n",
       "      <td>GAS_STATION</td>\n",
       "      <td>Prolongación Rio Purificación No. 800 Esquina ...</td>\n",
       "      <td>-98.29977</td>\n",
       "      <td>26.03787</td>\n",
       "    </tr>\n",
       "  </tbody>\n",
       "</table>\n",
       "</div>"
      ],
      "text/plain": [
       "   place_id                                        name  brand  \\\n",
       "0      2039  ESTACION DE SERVICIO CALAFIA, S.A. DE C.V.  PEMEX   \n",
       "1      2040                DIGEPE, S.A. DE C.V. (07356)  PEMEX   \n",
       "2      2041                      Diaz Gas, S.A. de C.V.  PEMEX   \n",
       "3      2042                 COMBU-EXPRESS, S.A. DE C.V.  PEMEX   \n",
       "4      2043                      PETROMAX, S.A. DE C.V.  PEMEX   \n",
       "\n",
       "               cre_id     category  \\\n",
       "0  PL/658/EXP/ES/2015  GAS_STATION   \n",
       "1  PL/902/EXP/ES/2015  GAS_STATION   \n",
       "2  PL/760/EXP/ES/2015  GAS_STATION   \n",
       "3  PL/825/EXP/ES/2015  GAS_STATION   \n",
       "4  PL/585/EXP/ES/2015  GAS_STATION   \n",
       "\n",
       "                                      address_street          x         y  \n",
       "0                     Boulevard Insurgentes No. 1910 -116.92140  32.47641  \n",
       "1  Carretera Ixmiquilpan - Palmillas Km 58.5 Huic...  -99.74484  20.30370  \n",
       "2               Avenida Adolfo López Mateos No. 1604 -106.45140  31.71947  \n",
       "3                       Ricardo Flores Magón No. 950 -103.30420  20.71413  \n",
       "4  Prolongación Rio Purificación No. 800 Esquina ...  -98.29977  26.03787  "
      ]
     },
     "execution_count": 6,
     "metadata": {},
     "output_type": "execute_result"
    }
   ],
   "source": [
    "stations_df = pd.read_csv('places.csv')\n",
    "stations_df.head()"
   ]
  },
  {
   "cell_type": "code",
   "execution_count": 7,
   "metadata": {},
   "outputs": [
    {
     "data": {
      "text/html": [
       "<div>\n",
       "<style scoped>\n",
       "    .dataframe tbody tr th:only-of-type {\n",
       "        vertical-align: middle;\n",
       "    }\n",
       "\n",
       "    .dataframe tbody tr th {\n",
       "        vertical-align: top;\n",
       "    }\n",
       "\n",
       "    .dataframe thead th {\n",
       "        text-align: right;\n",
       "    }\n",
       "</style>\n",
       "<table border=\"1\" class=\"dataframe\">\n",
       "  <thead>\n",
       "    <tr style=\"text-align: right;\">\n",
       "      <th></th>\n",
       "      <th>id_station</th>\n",
       "      <th>name</th>\n",
       "      <th>brand</th>\n",
       "      <th>cre_id</th>\n",
       "      <th>category</th>\n",
       "      <th>address</th>\n",
       "      <th>longitude</th>\n",
       "      <th>latitude</th>\n",
       "    </tr>\n",
       "  </thead>\n",
       "  <tbody>\n",
       "    <tr>\n",
       "      <th>0</th>\n",
       "      <td>2039</td>\n",
       "      <td>ESTACION DE SERVICIO CALAFIA, S.A. DE C.V.</td>\n",
       "      <td>PEMEX</td>\n",
       "      <td>PL/658/EXP/ES/2015</td>\n",
       "      <td>GAS_STATION</td>\n",
       "      <td>Boulevard Insurgentes No. 1910</td>\n",
       "      <td>-116.92140</td>\n",
       "      <td>32.47641</td>\n",
       "    </tr>\n",
       "    <tr>\n",
       "      <th>1</th>\n",
       "      <td>2040</td>\n",
       "      <td>DIGEPE, S.A. DE C.V. (07356)</td>\n",
       "      <td>PEMEX</td>\n",
       "      <td>PL/902/EXP/ES/2015</td>\n",
       "      <td>GAS_STATION</td>\n",
       "      <td>Carretera Ixmiquilpan - Palmillas Km 58.5 Huic...</td>\n",
       "      <td>-99.74484</td>\n",
       "      <td>20.30370</td>\n",
       "    </tr>\n",
       "    <tr>\n",
       "      <th>2</th>\n",
       "      <td>2041</td>\n",
       "      <td>Diaz Gas, S.A. de C.V.</td>\n",
       "      <td>PEMEX</td>\n",
       "      <td>PL/760/EXP/ES/2015</td>\n",
       "      <td>GAS_STATION</td>\n",
       "      <td>Avenida Adolfo López Mateos No. 1604</td>\n",
       "      <td>-106.45140</td>\n",
       "      <td>31.71947</td>\n",
       "    </tr>\n",
       "    <tr>\n",
       "      <th>3</th>\n",
       "      <td>2042</td>\n",
       "      <td>COMBU-EXPRESS, S.A. DE C.V.</td>\n",
       "      <td>PEMEX</td>\n",
       "      <td>PL/825/EXP/ES/2015</td>\n",
       "      <td>GAS_STATION</td>\n",
       "      <td>Ricardo Flores Magón No. 950</td>\n",
       "      <td>-103.30420</td>\n",
       "      <td>20.71413</td>\n",
       "    </tr>\n",
       "    <tr>\n",
       "      <th>4</th>\n",
       "      <td>2043</td>\n",
       "      <td>PETROMAX, S.A. DE C.V.</td>\n",
       "      <td>PEMEX</td>\n",
       "      <td>PL/585/EXP/ES/2015</td>\n",
       "      <td>GAS_STATION</td>\n",
       "      <td>Prolongación Rio Purificación No. 800 Esquina ...</td>\n",
       "      <td>-98.29977</td>\n",
       "      <td>26.03787</td>\n",
       "    </tr>\n",
       "  </tbody>\n",
       "</table>\n",
       "</div>"
      ],
      "text/plain": [
       "   id_station                                        name  brand  \\\n",
       "0        2039  ESTACION DE SERVICIO CALAFIA, S.A. DE C.V.  PEMEX   \n",
       "1        2040                DIGEPE, S.A. DE C.V. (07356)  PEMEX   \n",
       "2        2041                      Diaz Gas, S.A. de C.V.  PEMEX   \n",
       "3        2042                 COMBU-EXPRESS, S.A. DE C.V.  PEMEX   \n",
       "4        2043                      PETROMAX, S.A. DE C.V.  PEMEX   \n",
       "\n",
       "               cre_id     category  \\\n",
       "0  PL/658/EXP/ES/2015  GAS_STATION   \n",
       "1  PL/902/EXP/ES/2015  GAS_STATION   \n",
       "2  PL/760/EXP/ES/2015  GAS_STATION   \n",
       "3  PL/825/EXP/ES/2015  GAS_STATION   \n",
       "4  PL/585/EXP/ES/2015  GAS_STATION   \n",
       "\n",
       "                                             address  longitude  latitude  \n",
       "0                     Boulevard Insurgentes No. 1910 -116.92140  32.47641  \n",
       "1  Carretera Ixmiquilpan - Palmillas Km 58.5 Huic...  -99.74484  20.30370  \n",
       "2               Avenida Adolfo López Mateos No. 1604 -106.45140  31.71947  \n",
       "3                       Ricardo Flores Magón No. 950 -103.30420  20.71413  \n",
       "4  Prolongación Rio Purificación No. 800 Esquina ...  -98.29977  26.03787  "
      ]
     },
     "execution_count": 7,
     "metadata": {},
     "output_type": "execute_result"
    }
   ],
   "source": [
    "stations_df.rename(columns={'place_id':'id_station', 'address_street':'address', 'x':'longitude', 'y': 'latitude'},  inplace = True)\n",
    "stations_df.head()"
   ]
  },
  {
   "cell_type": "markdown",
   "metadata": {},
   "source": [
    "### Deleting of unnecessary columns"
   ]
  },
  {
   "cell_type": "code",
   "execution_count": 8,
   "metadata": {},
   "outputs": [
    {
     "data": {
      "text/html": [
       "<div>\n",
       "<style scoped>\n",
       "    .dataframe tbody tr th:only-of-type {\n",
       "        vertical-align: middle;\n",
       "    }\n",
       "\n",
       "    .dataframe tbody tr th {\n",
       "        vertical-align: top;\n",
       "    }\n",
       "\n",
       "    .dataframe thead th {\n",
       "        text-align: right;\n",
       "    }\n",
       "</style>\n",
       "<table border=\"1\" class=\"dataframe\">\n",
       "  <thead>\n",
       "    <tr style=\"text-align: right;\">\n",
       "      <th></th>\n",
       "      <th>id_station</th>\n",
       "      <th>name</th>\n",
       "      <th>address</th>\n",
       "      <th>longitude</th>\n",
       "      <th>latitude</th>\n",
       "    </tr>\n",
       "  </thead>\n",
       "  <tbody>\n",
       "    <tr>\n",
       "      <th>0</th>\n",
       "      <td>2039</td>\n",
       "      <td>ESTACION DE SERVICIO CALAFIA, S.A. DE C.V.</td>\n",
       "      <td>Boulevard Insurgentes No. 1910</td>\n",
       "      <td>-116.92140</td>\n",
       "      <td>32.47641</td>\n",
       "    </tr>\n",
       "    <tr>\n",
       "      <th>1</th>\n",
       "      <td>2040</td>\n",
       "      <td>DIGEPE, S.A. DE C.V. (07356)</td>\n",
       "      <td>Carretera Ixmiquilpan - Palmillas Km 58.5 Huic...</td>\n",
       "      <td>-99.74484</td>\n",
       "      <td>20.30370</td>\n",
       "    </tr>\n",
       "    <tr>\n",
       "      <th>2</th>\n",
       "      <td>2041</td>\n",
       "      <td>Diaz Gas, S.A. de C.V.</td>\n",
       "      <td>Avenida Adolfo López Mateos No. 1604</td>\n",
       "      <td>-106.45140</td>\n",
       "      <td>31.71947</td>\n",
       "    </tr>\n",
       "    <tr>\n",
       "      <th>3</th>\n",
       "      <td>2042</td>\n",
       "      <td>COMBU-EXPRESS, S.A. DE C.V.</td>\n",
       "      <td>Ricardo Flores Magón No. 950</td>\n",
       "      <td>-103.30420</td>\n",
       "      <td>20.71413</td>\n",
       "    </tr>\n",
       "    <tr>\n",
       "      <th>4</th>\n",
       "      <td>2043</td>\n",
       "      <td>PETROMAX, S.A. DE C.V.</td>\n",
       "      <td>Prolongación Rio Purificación No. 800 Esquina ...</td>\n",
       "      <td>-98.29977</td>\n",
       "      <td>26.03787</td>\n",
       "    </tr>\n",
       "  </tbody>\n",
       "</table>\n",
       "</div>"
      ],
      "text/plain": [
       "   id_station                                        name  \\\n",
       "0        2039  ESTACION DE SERVICIO CALAFIA, S.A. DE C.V.   \n",
       "1        2040                DIGEPE, S.A. DE C.V. (07356)   \n",
       "2        2041                      Diaz Gas, S.A. de C.V.   \n",
       "3        2042                 COMBU-EXPRESS, S.A. DE C.V.   \n",
       "4        2043                      PETROMAX, S.A. DE C.V.   \n",
       "\n",
       "                                             address  longitude  latitude  \n",
       "0                     Boulevard Insurgentes No. 1910 -116.92140  32.47641  \n",
       "1  Carretera Ixmiquilpan - Palmillas Km 58.5 Huic...  -99.74484  20.30370  \n",
       "2               Avenida Adolfo López Mateos No. 1604 -106.45140  31.71947  \n",
       "3                       Ricardo Flores Magón No. 950 -103.30420  20.71413  \n",
       "4  Prolongación Rio Purificación No. 800 Esquina ...  -98.29977  26.03787  "
      ]
     },
     "execution_count": 8,
     "metadata": {},
     "output_type": "execute_result"
    }
   ],
   "source": [
    "del stations_df['brand']\n",
    "del stations_df['cre_id']\n",
    "del stations_df['category']\n",
    "stations_df.head()"
   ]
  },
  {
   "cell_type": "markdown",
   "metadata": {},
   "source": [
    "### Cleanning gas stations data"
   ]
  },
  {
   "cell_type": "code",
   "execution_count": 9,
   "metadata": {},
   "outputs": [
    {
     "data": {
      "text/plain": [
       "id_station    12256\n",
       "name          12256\n",
       "address       12256\n",
       "longitude     12256\n",
       "latitude      12256\n",
       "dtype: int64"
      ]
     },
     "execution_count": 9,
     "metadata": {},
     "output_type": "execute_result"
    }
   ],
   "source": [
    "stations_df.count()"
   ]
  },
  {
   "cell_type": "code",
   "execution_count": 10,
   "metadata": {},
   "outputs": [
    {
     "data": {
      "text/plain": [
       "id_station    12256\n",
       "name          12256\n",
       "address       12256\n",
       "longitude     12256\n",
       "latitude      12256\n",
       "dtype: int64"
      ]
     },
     "execution_count": 10,
     "metadata": {},
     "output_type": "execute_result"
    }
   ],
   "source": [
    "stations_df.dropna(axis=0, how='any', inplace=True)\n",
    "stations_df.count()"
   ]
  },
  {
   "cell_type": "code",
   "execution_count": 11,
   "metadata": {},
   "outputs": [
    {
     "data": {
      "text/plain": [
       "12256"
      ]
     },
     "execution_count": 11,
     "metadata": {},
     "output_type": "execute_result"
    }
   ],
   "source": [
    "len(stations_df.id_station.unique())"
   ]
  },
  {
   "cell_type": "markdown",
   "metadata": {},
   "source": [
    "### Cleanning prices data"
   ]
  },
  {
   "cell_type": "code",
   "execution_count": 12,
   "metadata": {},
   "outputs": [
    {
     "data": {
      "text/plain": [
       "id_station     31925\n",
       "gas_price      31743\n",
       "type           31743\n",
       "update_time    31743\n",
       "year           31743\n",
       "month          31743\n",
       "day            31743\n",
       "time           31743\n",
       "dtype: int64"
      ]
     },
     "execution_count": 12,
     "metadata": {},
     "output_type": "execute_result"
    }
   ],
   "source": [
    "prices_df.count()"
   ]
  },
  {
   "cell_type": "code",
   "execution_count": 13,
   "metadata": {},
   "outputs": [
    {
     "data": {
      "text/plain": [
       "id_station     31743\n",
       "gas_price      31743\n",
       "type           31743\n",
       "update_time    31743\n",
       "year           31743\n",
       "month          31743\n",
       "day            31743\n",
       "time           31743\n",
       "dtype: int64"
      ]
     },
     "execution_count": 13,
     "metadata": {},
     "output_type": "execute_result"
    }
   ],
   "source": [
    "prices_df.dropna(axis=0, how='any', inplace=True)\n",
    "prices_df.count()"
   ]
  },
  {
   "cell_type": "code",
   "execution_count": 14,
   "metadata": {},
   "outputs": [
    {
     "data": {
      "text/plain": [
       "11918"
      ]
     },
     "execution_count": 14,
     "metadata": {},
     "output_type": "execute_result"
    }
   ],
   "source": [
    "len(prices_df.id_station.unique())"
   ]
  },
  {
   "cell_type": "markdown",
   "metadata": {},
   "source": [
    "### Adding new column to gas stations data and filling it with column name from function revGeocoding"
   ]
  },
  {
   "cell_type": "code",
   "execution_count": 15,
   "metadata": {},
   "outputs": [
    {
     "name": "stderr",
     "output_type": "stream",
     "text": [
      "/Users/tomokot/anaconda3/envs/PythonData/lib/python3.6/site-packages/ipykernel_launcher.py:8: SettingWithCopyWarning: \n",
      "A value is trying to be set on a copy of a slice from a DataFrame\n",
      "\n",
      "See the caveats in the documentation: http://pandas.pydata.org/pandas-docs/stable/indexing.html#indexing-view-versus-copy\n",
      "  \n"
     ]
    }
   ],
   "source": [
    "state = 'Mexico'\n",
    "stations_df.insert(3,'state','')\n",
    "for i in range(0, 10): #places_df.size):\n",
    "    #places_df['State'][i] = state\n",
    "    #print(f\"{places_df['y'][i]} - {places_df['x'][i]} - {gkey}\")\n",
    "    state = revGeocoding(stations_df['latitude'][i],stations_df['longitude'][i],gkey)\n",
    "    #print(state)\n",
    "    stations_df['state'][i] = state"
   ]
  },
  {
   "cell_type": "code",
   "execution_count": 16,
   "metadata": {},
   "outputs": [
    {
     "data": {
      "text/html": [
       "<div>\n",
       "<style scoped>\n",
       "    .dataframe tbody tr th:only-of-type {\n",
       "        vertical-align: middle;\n",
       "    }\n",
       "\n",
       "    .dataframe tbody tr th {\n",
       "        vertical-align: top;\n",
       "    }\n",
       "\n",
       "    .dataframe thead th {\n",
       "        text-align: right;\n",
       "    }\n",
       "</style>\n",
       "<table border=\"1\" class=\"dataframe\">\n",
       "  <thead>\n",
       "    <tr style=\"text-align: right;\">\n",
       "      <th></th>\n",
       "      <th>id_station</th>\n",
       "      <th>name</th>\n",
       "      <th>address</th>\n",
       "      <th>state</th>\n",
       "      <th>longitude</th>\n",
       "      <th>latitude</th>\n",
       "    </tr>\n",
       "  </thead>\n",
       "  <tbody>\n",
       "    <tr>\n",
       "      <th>0</th>\n",
       "      <td>2039</td>\n",
       "      <td>ESTACION DE SERVICIO CALAFIA, S.A. DE C.V.</td>\n",
       "      <td>Boulevard Insurgentes No. 1910</td>\n",
       "      <td>Avenida Campos</td>\n",
       "      <td>-116.92140</td>\n",
       "      <td>32.47641</td>\n",
       "    </tr>\n",
       "    <tr>\n",
       "      <th>1</th>\n",
       "      <td>2040</td>\n",
       "      <td>DIGEPE, S.A. DE C.V. (07356)</td>\n",
       "      <td>Carretera Ixmiquilpan - Palmillas Km 58.5 Huic...</td>\n",
       "      <td>Hidalgo</td>\n",
       "      <td>-99.74484</td>\n",
       "      <td>20.30370</td>\n",
       "    </tr>\n",
       "    <tr>\n",
       "      <th>2</th>\n",
       "      <td>2041</td>\n",
       "      <td>Diaz Gas, S.A. de C.V.</td>\n",
       "      <td>Avenida Adolfo López Mateos No. 1604</td>\n",
       "      <td>Calle Rubén Posada Pompa</td>\n",
       "      <td>-106.45140</td>\n",
       "      <td>31.71947</td>\n",
       "    </tr>\n",
       "    <tr>\n",
       "      <th>3</th>\n",
       "      <td>2042</td>\n",
       "      <td>COMBU-EXPRESS, S.A. DE C.V.</td>\n",
       "      <td>Ricardo Flores Magón No. 950</td>\n",
       "      <td>Periférico Norte Ricardo Flores Magón Oriente</td>\n",
       "      <td>-103.30420</td>\n",
       "      <td>20.71413</td>\n",
       "    </tr>\n",
       "    <tr>\n",
       "      <th>4</th>\n",
       "      <td>2043</td>\n",
       "      <td>PETROMAX, S.A. DE C.V.</td>\n",
       "      <td>Prolongación Rio Purificación No. 800 Esquina ...</td>\n",
       "      <td>Prolongación Río Purificación</td>\n",
       "      <td>-98.29977</td>\n",
       "      <td>26.03787</td>\n",
       "    </tr>\n",
       "  </tbody>\n",
       "</table>\n",
       "</div>"
      ],
      "text/plain": [
       "   id_station                                        name  \\\n",
       "0        2039  ESTACION DE SERVICIO CALAFIA, S.A. DE C.V.   \n",
       "1        2040                DIGEPE, S.A. DE C.V. (07356)   \n",
       "2        2041                      Diaz Gas, S.A. de C.V.   \n",
       "3        2042                 COMBU-EXPRESS, S.A. DE C.V.   \n",
       "4        2043                      PETROMAX, S.A. DE C.V.   \n",
       "\n",
       "                                             address  \\\n",
       "0                     Boulevard Insurgentes No. 1910   \n",
       "1  Carretera Ixmiquilpan - Palmillas Km 58.5 Huic...   \n",
       "2               Avenida Adolfo López Mateos No. 1604   \n",
       "3                       Ricardo Flores Magón No. 950   \n",
       "4  Prolongación Rio Purificación No. 800 Esquina ...   \n",
       "\n",
       "                                           state  longitude  latitude  \n",
       "0                                 Avenida Campos -116.92140  32.47641  \n",
       "1                                        Hidalgo  -99.74484  20.30370  \n",
       "2                       Calle Rubén Posada Pompa -106.45140  31.71947  \n",
       "3  Periférico Norte Ricardo Flores Magón Oriente -103.30420  20.71413  \n",
       "4                  Prolongación Río Purificación  -98.29977  26.03787  "
      ]
     },
     "execution_count": 16,
     "metadata": {},
     "output_type": "execute_result"
    }
   ],
   "source": [
    "stations_df.head()"
   ]
  },
  {
   "cell_type": "markdown",
   "metadata": {},
   "source": [
    "### Loading data into local DB"
   ]
  },
  {
   "cell_type": "code",
   "execution_count": 19,
   "metadata": {},
   "outputs": [],
   "source": [
    "rds_connection_string = 'root:' + mySQLrp + '@127.0.0.1/gasoline_prices'\n",
    "engine = create_engine(f'mysql://{rds_connection_string}')"
   ]
  },
  {
   "cell_type": "code",
   "execution_count": 20,
   "metadata": {},
   "outputs": [
    {
     "name": "stderr",
     "output_type": "stream",
     "text": [
      "/Users/tomokot/anaconda3/envs/PythonData/lib/python3.6/site-packages/ipykernel_launcher.py:1: SettingWithCopyWarning: \n",
      "A value is trying to be set on a copy of a slice from a DataFrame\n",
      "\n",
      "See the caveats in the documentation: http://pandas.pydata.org/pandas-docs/stable/indexing.html#indexing-view-versus-copy\n",
      "  \"\"\"Entry point for launching an IPython kernel.\n"
     ]
    }
   ],
   "source": [
    "stations_df['address'][12169] = 'Avenida Pantitlan 676'"
   ]
  },
  {
   "cell_type": "code",
   "execution_count": 21,
   "metadata": {},
   "outputs": [
    {
     "data": {
      "text/html": [
       "<div>\n",
       "<style scoped>\n",
       "    .dataframe tbody tr th:only-of-type {\n",
       "        vertical-align: middle;\n",
       "    }\n",
       "\n",
       "    .dataframe tbody tr th {\n",
       "        vertical-align: top;\n",
       "    }\n",
       "\n",
       "    .dataframe thead th {\n",
       "        text-align: right;\n",
       "    }\n",
       "</style>\n",
       "<table border=\"1\" class=\"dataframe\">\n",
       "  <thead>\n",
       "    <tr style=\"text-align: right;\">\n",
       "      <th></th>\n",
       "      <th>id_station</th>\n",
       "      <th>name</th>\n",
       "      <th>address</th>\n",
       "      <th>state</th>\n",
       "      <th>longitude</th>\n",
       "      <th>latitude</th>\n",
       "    </tr>\n",
       "  </thead>\n",
       "  <tbody>\n",
       "    <tr>\n",
       "      <th>12168</th>\n",
       "      <td>25041</td>\n",
       "      <td>SERVICIO LOMAS AGUASCALIENTES SA DE CV</td>\n",
       "      <td>BLVD. SIGLO XXI No. 3171</td>\n",
       "      <td></td>\n",
       "      <td>-102.3079</td>\n",
       "      <td>21.84558</td>\n",
       "    </tr>\n",
       "    <tr>\n",
       "      <th>12169</th>\n",
       "      <td>25042</td>\n",
       "      <td>SERVICENTRO PANTITLAN, S.A. DE C.V.</td>\n",
       "      <td>Avenida Pantitlan 676</td>\n",
       "      <td></td>\n",
       "      <td>-98.9893</td>\n",
       "      <td>19.38131</td>\n",
       "    </tr>\n",
       "  </tbody>\n",
       "</table>\n",
       "</div>"
      ],
      "text/plain": [
       "       id_station                                    name  \\\n",
       "12168       25041  SERVICIO LOMAS AGUASCALIENTES SA DE CV   \n",
       "12169       25042     SERVICENTRO PANTITLAN, S.A. DE C.V.   \n",
       "\n",
       "                        address state  longitude  latitude  \n",
       "12168  BLVD. SIGLO XXI No. 3171        -102.3079  21.84558  \n",
       "12169     Avenida Pantitlan 676         -98.9893  19.38131  "
      ]
     },
     "execution_count": 21,
     "metadata": {},
     "output_type": "execute_result"
    }
   ],
   "source": [
    "stations_df[12168:12170]"
   ]
  },
  {
   "cell_type": "code",
   "execution_count": 22,
   "metadata": {},
   "outputs": [],
   "source": [
    "#stations_df = pd.read_csv(\"stations_df.csv\", encoding=\"UTF-8\") "
   ]
  },
  {
   "cell_type": "code",
   "execution_count": 23,
   "metadata": {},
   "outputs": [],
   "source": [
    "#stations_df.columns"
   ]
  },
  {
   "cell_type": "code",
   "execution_count": 24,
   "metadata": {
    "scrolled": true
   },
   "outputs": [],
   "source": [
    "#stations_df.drop(\"Unnamed: 0\", axis=1, inplace=True)"
   ]
  },
  {
   "cell_type": "code",
   "execution_count": 25,
   "metadata": {},
   "outputs": [],
   "source": [
    "stations_df.to_sql(name='station', con=engine, if_exists='append', index=False)"
   ]
  },
  {
   "cell_type": "code",
   "execution_count": 26,
   "metadata": {},
   "outputs": [],
   "source": [
    "prices_df.to_sql(name='gas_price', con=engine, if_exists='append', index=False)"
   ]
  },
  {
   "cell_type": "code",
   "execution_count": 27,
   "metadata": {},
   "outputs": [],
   "source": [
    "#stations_df.to_sql(name='station', con=engine, if_exists='append', index=False)\n",
    "\n",
    "#for i in range(0, stations_df.size):\n",
    "#    stations_df_tmp = stations_df[i:i+1]\n",
    "#    stations_df_tmp.to_sql(name='station', con=engine, if_exists='append', index=False)"
   ]
  },
  {
   "cell_type": "code",
   "execution_count": null,
   "metadata": {},
   "outputs": [],
   "source": []
  },
  {
   "cell_type": "code",
   "execution_count": null,
   "metadata": {},
   "outputs": [],
   "source": []
  }
 ],
 "metadata": {
  "kernelspec": {
   "display_name": "Python 3",
   "language": "python",
   "name": "python3"
  },
  "language_info": {
   "codemirror_mode": {
    "name": "ipython",
    "version": 3
   },
   "file_extension": ".py",
   "mimetype": "text/x-python",
   "name": "python",
   "nbconvert_exporter": "python",
   "pygments_lexer": "ipython3",
   "version": "3.6.5"
  }
 },
 "nbformat": 4,
 "nbformat_minor": 2
}
